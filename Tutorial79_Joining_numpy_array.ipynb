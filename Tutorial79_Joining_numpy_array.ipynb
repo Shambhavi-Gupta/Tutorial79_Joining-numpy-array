{
  "nbformat": 4,
  "nbformat_minor": 0,
  "metadata": {
    "colab": {
      "name": "Tutorial79_Joining-numpy-array.ipynb",
      "provenance": [],
      "authorship_tag": "ABX9TyNZYWDReCrQKNHVyJk7usFg",
      "include_colab_link": true
    },
    "kernelspec": {
      "name": "python3",
      "display_name": "Python 3"
    }
  },
  "cells": [
    {
      "cell_type": "markdown",
      "metadata": {
        "id": "view-in-github",
        "colab_type": "text"
      },
      "source": [
        "<a href=\"https://colab.research.google.com/github/Shambhavi-Gupta/Tutorial79_Joining-numpy-array/blob/main/Tutorial79_Joining_numpy_array.ipynb\" target=\"_parent\"><img src=\"https://colab.research.google.com/assets/colab-badge.svg\" alt=\"Open In Colab\"/></a>"
      ]
    },
    {
      "cell_type": "code",
      "metadata": {
        "id": "W-7gfJmercJ6"
      },
      "source": [
        "import numpy as np\r\n",
        "# a = np.arange(1,5)\r\n",
        "# b = np.arange(6)\r\n",
        "# print(np.concatenate((a,b)))\r\n",
        "# a = np.arange(6)\r\n",
        "# b = np.arange(5)\r\n",
        "# c = np.arange(4)\r\n",
        "# print(np.concatenate((a,b,c)))\r\n",
        "# a = np.array([1,2])\r\n",
        "# b = np.array([3,4])\r\n",
        "# print(np.concatenate((a,b)))\r\n",
        "a = np.array([1,2,3])\r\n",
        "b = np.array([4,5,6])\r\n",
        "c = np.array([7,8,9])\r\n",
        "print(np.concatenate((a,b,c)))"
      ],
      "execution_count": null,
      "outputs": []
    }
  ]
}